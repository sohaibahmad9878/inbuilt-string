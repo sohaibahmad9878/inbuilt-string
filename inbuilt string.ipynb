{
 "cells": [
  {
   "cell_type": "code",
   "execution_count": null,
   "id": "294fc015-3298-43c8-b546-90a93e6775ae",
   "metadata": {},
   "outputs": [],
   "source": [
    "#What is the purpose of the len() function in Python, and how can it be used with strings?"
   ]
  },
  {
   "cell_type": "markdown",
   "id": "5d4cb818-452f-416e-9ed3-9207c02d9638",
   "metadata": {},
   "source": [
    "The len() function in Python is used to determine the length (i.e., the number of items) of an object.\n",
    "When used with strings, it returns the number of characters in the string, including spaces and special\n",
    "characters.\n",
    "\n",
    "Example of len() with a string:"
   ]
  },
  {
   "cell_type": "code",
   "execution_count": 1,
   "id": "18226481-f978-47bf-a82b-6ef9a09dcf86",
   "metadata": {},
   "outputs": [
    {
     "name": "stdout",
     "output_type": "stream",
     "text": [
      "13\n"
     ]
    }
   ],
   "source": [
    "my_string = \"Hello, World!\"\n",
    "length = len(my_string)\n",
    "print(length)"
   ]
  },
  {
   "cell_type": "markdown",
   "id": "ae46ed6c-878b-44f9-8815-c3effe4fb58c",
   "metadata": {},
   "source": [
    "In this case, the len() function counts the characters in the string \"Hello, World!\" and returns 13,\n",
    "which includes spaces and punctuation."
   ]
  },
  {
   "cell_type": "code",
   "execution_count": null,
   "id": "2af2b954-3366-435b-bc0d-4a2c4725e05c",
   "metadata": {},
   "outputs": [],
   "source": [
    "#How can you concatenate two or more strings in Python, and can you provide an example of string concatenation?"
   ]
  },
  {
   "cell_type": "markdown",
   "id": "a76cbdd3-8018-4b00-9fff-19945bd41427",
   "metadata": {},
   "source": [
    "In Python, you can concatenate two or more strings using the + operator or the join() method. \n",
    "Here’s how you can do it:\n",
    "\n",
    "Example using the + operator:"
   ]
  },
  {
   "cell_type": "code",
   "execution_count": 3,
   "id": "fef20201-70ba-4838-a432-6401ef6228b3",
   "metadata": {},
   "outputs": [
    {
     "name": "stdout",
     "output_type": "stream",
     "text": [
      "Hello, World!\n"
     ]
    }
   ],
   "source": [
    "str1 = \"Hello\"\n",
    "str2 = \"World\"\n",
    "result = str1 + \", \" + str2 + \"!\"\n",
    "print(result)"
   ]
  },
  {
   "cell_type": "markdown",
   "id": "e32cf809-7df5-44da-9f9a-8e94534dab67",
   "metadata": {},
   "source": [
    "In this example, the strings \"Hello\", \", \", and \"World\" are concatenated using the + operator."
   ]
  },
  {
   "cell_type": "code",
   "execution_count": null,
   "id": "d38aeb79-9357-4251-95d5-40c26112e45e",
   "metadata": {},
   "outputs": [],
   "source": [
    "Example using the join() method:"
   ]
  },
  {
   "cell_type": "code",
   "execution_count": 4,
   "id": "72175b86-4aaa-4952-ac68-c0603a83654d",
   "metadata": {},
   "outputs": [
    {
     "name": "stdout",
     "output_type": "stream",
     "text": [
      "Hello, World\n"
     ]
    }
   ],
   "source": [
    "str_list = [\"Hello\", \"World\"]\n",
    "result = \", \".join(str_list)\n",
    "print(result)"
   ]
  },
  {
   "cell_type": "markdown",
   "id": "7153aa11-a94e-4142-a393-f66b32cdb98a",
   "metadata": {},
   "source": [
    "The join() method concatenates elements of a list or iterable, inserting the specified string\n",
    "(in this case, \", \") between each element. Both methods are commonly used depending on the situation."
   ]
  },
  {
   "cell_type": "code",
   "execution_count": null,
   "id": "1f0de3c4-20c9-4ec7-b0f2-e635e6f8d839",
   "metadata": {},
   "outputs": [],
   "source": [
    "#What is string slicing in Python, and how can you extract a portion of a string using this method?"
   ]
  },
  {
   "cell_type": "markdown",
   "id": "69ed4f0b-00ac-4687-bc1e-129bb49043d9",
   "metadata": {},
   "source": [
    "String slicing in Python is a way to extract a portion (or a \"slice\") of a string by specifying a range\n",
    "of indices. This is done using the syntax string[start:end], where:\n",
    "\n",
    ".start is the index where the slice begins (inclusive).\n",
    ".end is the index where the slice ends (exclusive).\n",
    "\n",
    "You can also specify a step value, which indicates how many characters to skip between each index in the\n",
    "slice. The syntax for this is string[start:end:step].\n",
    "\n",
    "Basic Example of String Slicing:"
   ]
  },
  {
   "cell_type": "code",
   "execution_count": 5,
   "id": "57ee680b-afbf-4d29-ae1c-1fef5044c605",
   "metadata": {},
   "outputs": [
    {
     "name": "stdout",
     "output_type": "stream",
     "text": [
      "Hello\n"
     ]
    }
   ],
   "source": [
    "my_string = \"Hello, World!\"\n",
    "slice1 = my_string[0:5]  \n",
    "print(slice1)"
   ]
  },
  {
   "cell_type": "markdown",
   "id": "11deb729-5921-48ea-a5df-5e3aa3e2e073",
   "metadata": {},
   "source": [
    "Slicing with Step:\n",
    "You can also use a step argument to skip characters:"
   ]
  },
  {
   "cell_type": "code",
   "execution_count": 6,
   "id": "1bcf83b7-c6dd-470a-a5d0-9cf5dafec49b",
   "metadata": {},
   "outputs": [
    {
     "name": "stdout",
     "output_type": "stream",
     "text": [
      "Hlo ol\n"
     ]
    }
   ],
   "source": [
    "my_string = \"Hello, World!\"\n",
    "slice2 = my_string[0:12:2]  \n",
    "print(slice2)"
   ]
  },
  {
   "cell_type": "markdown",
   "id": "75549684-df86-4b5a-a1d4-0faf4f4f49c4",
   "metadata": {},
   "source": [
    "Negative Indexing:\n",
    "You can also use negative indices to slice from the end of the string:"
   ]
  },
  {
   "cell_type": "code",
   "execution_count": 8,
   "id": "8a376972-b327-4bd2-80db-2512951f663a",
   "metadata": {},
   "outputs": [
    {
     "name": "stdout",
     "output_type": "stream",
     "text": [
      "World!\n"
     ]
    }
   ],
   "source": [
    "my_string = \"Hello, World!\"\n",
    "slice3 = my_string[-6:]  \n",
    "print(slice3)"
   ]
  },
  {
   "cell_type": "code",
   "execution_count": null,
   "id": "20518c4b-e45d-4a39-b653-fd3f5277aeb4",
   "metadata": {},
   "outputs": [],
   "source": [
    "#How can you change the case of a string in Python, and can you provide examples of both making a string \n",
    "#all uppercase and all lowercase?"
   ]
  },
  {
   "cell_type": "markdown",
   "id": "8637c3de-569f-448b-b36f-799efd436c8c",
   "metadata": {},
   "source": [
    "In Python, you can change the case of a string using the .upper() and .lower() methods:\n",
    "\n",
    "1.To make a string all uppercase, you use the .upper() method.\n",
    "2.To make a string all lowercase, you use the .lower() method.\n",
    "\n",
    "Here are examples of both:\n",
    "\n",
    "Uppercase Example:"
   ]
  },
  {
   "cell_type": "code",
   "execution_count": 9,
   "id": "548ef8cf-996c-4392-9a09-be8ece2520bd",
   "metadata": {},
   "outputs": [
    {
     "name": "stdout",
     "output_type": "stream",
     "text": [
      "HELLO, WORLD!\n"
     ]
    }
   ],
   "source": [
    "text = \"Hello, World!\"\n",
    "upper_text = text.upper()\n",
    "print(upper_text)"
   ]
  },
  {
   "cell_type": "markdown",
   "id": "e14db131-24e9-4ec9-a9fa-4df0aa3ed34a",
   "metadata": {},
   "source": [
    "Lowercase Example:"
   ]
  },
  {
   "cell_type": "code",
   "execution_count": 10,
   "id": "e067fd1e-3c2a-4d8b-a8d9-a3a9caf96c3a",
   "metadata": {},
   "outputs": [
    {
     "name": "stdout",
     "output_type": "stream",
     "text": [
      "hello, world!\n"
     ]
    }
   ],
   "source": [
    "text = \"Hello, World!\"\n",
    "lower_text = text.lower()\n",
    "print(lower_text)"
   ]
  },
  {
   "cell_type": "code",
   "execution_count": null,
   "id": "aefe2a91-1a33-4b3b-b4e0-299c5c86e700",
   "metadata": {},
   "outputs": [],
   "source": [
    "#What does the split() method do in Python, and how can you split a string using a specific delimiter?"
   ]
  },
  {
   "cell_type": "code",
   "execution_count": null,
   "id": "89733e46-057f-409f-ad9f-732a0ba7cd6d",
   "metadata": {},
   "outputs": [],
   "source": [
    "The split() method in Python breaks a string into a list of substrings based on a specified delimiter.\n",
    "If no delimiter is provided, it defaults to splitting by any whitespace (spaces, tabs, or newlines).\n",
    "\n",
    "Syntax:"
   ]
  },
  {
   "cell_type": "code",
   "execution_count": null,
   "id": "4b5e9d4e-cd8b-4846-89b1-d3137a3ff5b6",
   "metadata": {},
   "outputs": [],
   "source": [
    "string.split(delimiter, maxsplit)"
   ]
  },
  {
   "cell_type": "code",
   "execution_count": null,
   "id": "f123f496-135a-4141-a792-f12822c88d33",
   "metadata": {},
   "outputs": [],
   "source": [
    ".delimiter: The character or substring that determines where the string will be split.\n",
    ".maxsplit (optional): The maximum number of splits to perform. If omitted, all possible splits are made.\n",
    "\n",
    "\n",
    "Example 1: Splitting by whitespace (default behavior)"
   ]
  },
  {
   "cell_type": "code",
   "execution_count": 12,
   "id": "88e58cef-1ef9-4c97-b1ae-46184d2ff0f5",
   "metadata": {},
   "outputs": [
    {
     "name": "stdout",
     "output_type": "stream",
     "text": [
      "['Hello', 'World,', 'welcome', 'to', 'Python!']\n"
     ]
    }
   ],
   "source": [
    "text = \"Hello World, welcome to Python!\"\n",
    "words = text.split()\n",
    "print(words)"
   ]
  },
  {
   "cell_type": "code",
   "execution_count": null,
   "id": "ed0a7383-0789-4bb3-a5ca-2cd03e3d937f",
   "metadata": {},
   "outputs": [],
   "source": [
    "Example 2: Splitting by a specific delimiter (comma ,)"
   ]
  },
  {
   "cell_type": "code",
   "execution_count": 13,
   "id": "705585a2-a7ac-4ff0-8eab-6330b0941969",
   "metadata": {},
   "outputs": [
    {
     "name": "stdout",
     "output_type": "stream",
     "text": [
      "['apple', 'banana', 'orange', 'grape']\n"
     ]
    }
   ],
   "source": [
    "csv_data = \"apple,banana,orange,grape\"\n",
    "fruits = csv_data.split(',')\n",
    "print(fruits)"
   ]
  },
  {
   "cell_type": "markdown",
   "id": "c649c770-94bf-42ae-9859-707916178e45",
   "metadata": {},
   "source": [
    "Example 3: Limiting the number of splits (using maxsplit)"
   ]
  },
  {
   "cell_type": "code",
   "execution_count": 14,
   "id": "82d6e381-d840-4eb7-a886-d3edac09be42",
   "metadata": {},
   "outputs": [
    {
     "name": "stdout",
     "output_type": "stream",
     "text": [
      "['apple', 'banana', 'orange,grape']\n"
     ]
    }
   ],
   "source": [
    "text = \"apple,banana,orange,grape\"\n",
    "fruits = text.split(',', 2)\n",
    "print(fruits)"
   ]
  },
  {
   "cell_type": "code",
   "execution_count": null,
   "id": "ba677133-2064-4ec6-a37f-b799c675de9b",
   "metadata": {},
   "outputs": [],
   "source": []
  },
  {
   "cell_type": "code",
   "execution_count": null,
   "id": "5a3e6fa4-b607-4a07-98e8-c06b3d6ece0a",
   "metadata": {},
   "outputs": [],
   "source": []
  },
  {
   "cell_type": "code",
   "execution_count": null,
   "id": "8b0d61ec-608e-4dee-8587-50da67083082",
   "metadata": {},
   "outputs": [],
   "source": []
  },
  {
   "cell_type": "code",
   "execution_count": null,
   "id": "2111779d-3149-4da5-ab6b-3b508f33b92e",
   "metadata": {},
   "outputs": [],
   "source": []
  }
 ],
 "metadata": {
  "kernelspec": {
   "display_name": "Python 3 (ipykernel)",
   "language": "python",
   "name": "python3"
  },
  "language_info": {
   "codemirror_mode": {
    "name": "ipython",
    "version": 3
   },
   "file_extension": ".py",
   "mimetype": "text/x-python",
   "name": "python",
   "nbconvert_exporter": "python",
   "pygments_lexer": "ipython3",
   "version": "3.10.8"
  }
 },
 "nbformat": 4,
 "nbformat_minor": 5
}
